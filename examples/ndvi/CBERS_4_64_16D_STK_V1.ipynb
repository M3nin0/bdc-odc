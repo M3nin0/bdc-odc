{
 "cells": [
  {
   "cell_type": "markdown",
   "metadata": {},
   "source": []
  },
  {
   "cell_type": "code",
   "execution_count": null,
   "metadata": {},
   "outputs": [],
   "source": [
    "import datacube\n",
    "from datacube.api.core import get_bounds\n",
    "\n",
    "import pyproj\n",
    "import shapely\n",
    "from osgeo import osr\n",
    "from shapely import wkt\n",
    "from functools import partial\n",
    "from shapely.ops import transform\n",
    "\n",
    "import numpy as np\n",
    "import pandas as pd\n",
    "import geopandas as gpd\n",
    "\n",
    "import matplotlib\n",
    "import matplotlib.pyplot as plt\n",
    "\n",
    "# Configs\n",
    "import warnings\n",
    "warnings.filterwarnings('ignore')\n",
    "pd.set_option('display.max_rows', 10)\n",
    "\n",
    "%matplotlib inline"
   ]
  },
  {
   "cell_type": "markdown",
   "metadata": {},
   "source": [
    "This example shows the way to view some BDC data that is within the ODC computing infrastructure.\n",
    "\n",
    "> In these examples CBERS_4_64_16D_STK_V data will be used"
   ]
  },
  {
   "cell_type": "code",
   "execution_count": null,
   "metadata": {},
   "outputs": [],
   "source": [
    "dc = datacube.Datacube(app='datacube')\n",
    "products = dc.list_products()\n",
    "\n",
    "products['n_datasets'] = [len(dc.find_datasets(product=product['name'])) for idx,product in products.iterrows()]\n",
    "products"
   ]
  },
  {
   "cell_type": "markdown",
   "metadata": {},
   "source": [
    "SELECT CB4_64_16D_STK_v1"
   ]
  },
  {
   "cell_type": "code",
   "execution_count": null,
   "metadata": {},
   "outputs": [],
   "source": [
    "product_name = \"CB4_64_16D_STK_v1\""
   ]
  },
  {
   "cell_type": "markdown",
   "metadata": {},
   "source": []
  },
  {
   "cell_type": "code",
   "execution_count": null,
   "metadata": {},
   "outputs": [],
   "source": [
    "datasets = dc.find_datasets(product = product_name)\n",
    "ds = [{\n",
    "        'id':ds.id, \n",
    "        'bbox': (ds.metadata.lon[0], ds.metadata.lat[0], ds.metadata.lon[1], ds.metadata.lat[1]),\n",
    "      } for ds in datasets ]\n",
    "\n",
    "prod_ds = pd.DataFrame(ds).set_index('id')\n",
    "prod_ds.head(4)"
   ]
  },
  {
   "cell_type": "markdown",
   "metadata": {},
   "source": [
    "### BDC CBERS Tiles\n",
    "\n",
    "TODO\n"
   ]
  },
  {
   "cell_type": "code",
   "execution_count": null,
   "metadata": {},
   "outputs": [],
   "source": [
    "from bdc_utils import bdc_plot_datasets\n",
    "bdc_plot_datasets(datasets, zoom = 4)"
   ]
  },
  {
   "cell_type": "markdown",
   "metadata": {},
   "source": [
    "### Example - Viewing Tile's RGB Image\n",
    "\n",
    "Display of a data cube image\n"
   ]
  },
  {
   "cell_type": "code",
   "execution_count": null,
   "metadata": {},
   "outputs": [],
   "source": [
    "rgb = dc.load(product_name, measurements = ['red', 'green', 'blue'], time = \"2019-12-19\")\n",
    "rgb"
   ]
  },
  {
   "cell_type": "markdown",
   "metadata": {},
   "source": [
    "With the data loaded, the visualization of these can be done"
   ]
  },
  {
   "cell_type": "code",
   "execution_count": null,
   "metadata": {},
   "outputs": [],
   "source": [
    "rgb_stack = np.dstack((rgb['red'][0] / 1000, rgb['green'][0] / 1000, rgb['blue'][0] / 1000))\n",
    "fig, ax = plt.subplots(figsize=(15, 15))\n",
    "ax.imshow(rgb_stack)"
   ]
  },
  {
   "cell_type": "markdown",
   "metadata": {},
   "source": [
    "### Example - Viewing Tile's NDVI Image\n",
    "\n",
    "Display of data cube tile's NDVI"
   ]
  },
  {
   "cell_type": "code",
   "execution_count": null,
   "metadata": {},
   "outputs": [],
   "source": [
    "nvdi = dc.load(product_name, measurements = ['nvdi'], time = \"2019-12-19\")\n",
    "nvdi"
   ]
  }
 ],
 "metadata": {
  "kernelspec": {
   "display_name": "Python 3",
   "language": "python",
   "name": "python3"
  },
  "language_info": {
   "codemirror_mode": {
    "name": "ipython",
    "version": 3
   },
   "file_extension": ".py",
   "mimetype": "text/x-python",
   "name": "python",
   "nbconvert_exporter": "python",
   "pygments_lexer": "ipython3",
   "version": "3.8.5"
  }
 },
 "nbformat": 4,
 "nbformat_minor": 4
}
